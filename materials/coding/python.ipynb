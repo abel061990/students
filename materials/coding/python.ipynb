{
 "cells": [
  {
   "cell_type": "markdown",
   "metadata": {
    "deletable": false,
    "editable": false,
    "nbgrader": {
     "cell_type": "markdown",
     "checksum": "9ce09c266580ea077a49e4e790308c20",
     "grade": false,
     "grade_id": "cell-4d72f83371530411",
     "locked": true,
     "schema_version": 2,
     "solution": false
    }
   },
   "source": [
    "#### Question 1\n",
    "Ecrivez une fonction python qui prend en argument une chaine de caractères et remplace\n",
    "toutes les occurrences de la 1ere lettre par le symbole & excepté la 1ere lettre.\n",
    "Exemple de chaine de caractères : 'ananas'\n",
    "Résultat attendu : 'an&n&s'"
   ]
  },
  {
   "cell_type": "code",
   "execution_count": null,
   "metadata": {
    "deletable": false,
    "nbgrader": {
     "cell_type": "code",
     "checksum": "b4d8f8e92ce7db6ed2249b8fbc517669",
     "grade": false,
     "grade_id": "cell-c10287dc96becd68",
     "locked": false,
     "schema_version": 2,
     "solution": true
    }
   },
   "outputs": [],
   "source": [
    "def repl(char):\n",
    "    # YOUR CODE HERE\n",
    "    raise NotImplementedError()"
   ]
  },
  {
   "cell_type": "code",
   "execution_count": null,
   "metadata": {
    "deletable": false,
    "editable": false,
    "nbgrader": {
     "cell_type": "code",
     "checksum": "35df27ec89a4fc7df9156e27c025e8ac",
     "grade": true,
     "grade_id": "cell-fb28f65e1f4d7017",
     "locked": true,
     "points": 2,
     "schema_version": 2,
     "solution": false
    }
   },
   "outputs": [],
   "source": [
    "assert repl('ananas')=='an&n&s'\n",
    "assert repl('jojo')=='jo&o'\n",
    "assert repl('abel')=='abel'"
   ]
  },
  {
   "cell_type": "markdown",
   "metadata": {
    "deletable": false,
    "editable": false,
    "nbgrader": {
     "cell_type": "markdown",
     "checksum": "51c4de13bac411414ceeea5af06e1ed8",
     "grade": false,
     "grade_id": "cell-27f85bc11e576c3a",
     "locked": true,
     "schema_version": 2,
     "solution": false
    }
   },
   "source": [
    "#### Question 2\n",
    "Ecrivez une fonction Python qui prend une liste de mots et renvoie la longueur du plus long"
   ]
  },
  {
   "cell_type": "code",
   "execution_count": null,
   "metadata": {
    "deletable": false,
    "nbgrader": {
     "cell_type": "code",
     "checksum": "47f52145048756b37ba20d81e540a0e6",
     "grade": false,
     "grade_id": "cell-fc464bab5c376def",
     "locked": false,
     "schema_version": 2,
     "solution": true
    }
   },
   "outputs": [],
   "source": [
    "def get_len(ls):\n",
    "    # YOUR CODE HERE\n",
    "    raise NotImplementedError()"
   ]
  },
  {
   "cell_type": "code",
   "execution_count": null,
   "metadata": {
    "deletable": false,
    "editable": false,
    "nbgrader": {
     "cell_type": "code",
     "checksum": "2ce3bd03bae7bbe8370c576e5f813d08",
     "grade": true,
     "grade_id": "cell-d28e1d57b6ca0b27",
     "locked": true,
     "points": 2,
     "schema_version": 2,
     "solution": false
    }
   },
   "outputs": [],
   "source": [
    "assert get_len(['abel','gbeli','jonathan','josias'])==8"
   ]
  },
  {
   "cell_type": "markdown",
   "metadata": {
    "deletable": false,
    "editable": false,
    "nbgrader": {
     "cell_type": "markdown",
     "checksum": "2185b56911298d5f5a8ba1ffc4c194a0",
     "grade": false,
     "grade_id": "cell-5aa79040cc1585c5",
     "locked": true,
     "schema_version": 2,
     "solution": false
    }
   },
   "source": [
    "#### Question 3\n",
    "Ecrivez une fonction Python qui pour une chaine de caractères donnée permute le 1er et le\n",
    "dernier caractère"
   ]
  },
  {
   "cell_type": "code",
   "execution_count": null,
   "metadata": {
    "deletable": false,
    "nbgrader": {
     "cell_type": "code",
     "checksum": "cca3a3f3ad1c88e67c2af091ab5310ed",
     "grade": false,
     "grade_id": "cell-316324b6d1a9b33d",
     "locked": false,
     "schema_version": 2,
     "solution": true
    }
   },
   "outputs": [],
   "source": [
    "def permut(char):\n",
    "    # YOUR CODE HERE\n",
    "    raise NotImplementedError()"
   ]
  },
  {
   "cell_type": "code",
   "execution_count": null,
   "metadata": {
    "deletable": false,
    "editable": false,
    "nbgrader": {
     "cell_type": "code",
     "checksum": "21169032c97df540897de2c07b00e26f",
     "grade": true,
     "grade_id": "cell-b2165cd064b51dea",
     "locked": true,
     "points": 2,
     "schema_version": 2,
     "solution": false
    }
   },
   "outputs": [],
   "source": [
    "assert permut('abel')=='lbea'\n",
    "assert permut('label')=='label'"
   ]
  },
  {
   "cell_type": "markdown",
   "metadata": {
    "deletable": false,
    "editable": false,
    "nbgrader": {
     "cell_type": "markdown",
     "checksum": "32bb0d07ac4705623f6509735ec428e8",
     "grade": false,
     "grade_id": "cell-bfbf0e118d49fba5",
     "locked": true,
     "schema_version": 2,
     "solution": false
    }
   },
   "source": [
    "#### Question 4\n",
    "Ecrivez un programme python qui fait la somme de tous les éléments d’une liste"
   ]
  },
  {
   "cell_type": "code",
   "execution_count": null,
   "metadata": {
    "deletable": false,
    "nbgrader": {
     "cell_type": "code",
     "checksum": "77f26fe80c45be6cb6f2d08b506021f8",
     "grade": false,
     "grade_id": "cell-e8ecdbefa90d761b",
     "locked": false,
     "schema_version": 2,
     "solution": true
    }
   },
   "outputs": [],
   "source": [
    "def add(ls):\n",
    "    # YOUR CODE HERE\n",
    "    raise NotImplementedError()"
   ]
  },
  {
   "cell_type": "code",
   "execution_count": null,
   "metadata": {
    "deletable": false,
    "editable": false,
    "nbgrader": {
     "cell_type": "code",
     "checksum": "b68be3baeb30202931c441adf0ec300b",
     "grade": true,
     "grade_id": "cell-a80c01dd53569c2d",
     "locked": true,
     "points": 2,
     "schema_version": 2,
     "solution": false
    }
   },
   "outputs": [],
   "source": [
    "assert add([3,2,9])==14\n",
    "assert add([0,-2,2])==0"
   ]
  },
  {
   "cell_type": "markdown",
   "metadata": {
    "deletable": false,
    "editable": false,
    "nbgrader": {
     "cell_type": "markdown",
     "checksum": "3bdb0aa78b38f38fb0e0e6143276b514",
     "grade": false,
     "grade_id": "cell-e0396a95476c15b6",
     "locked": true,
     "schema_version": 2,
     "solution": false
    }
   },
   "source": [
    "#### Question 5\n",
    "Ecrivez un programme python qui donne le plus grand nombre et le plus petit nombre d’une\n",
    "liste"
   ]
  },
  {
   "cell_type": "code",
   "execution_count": null,
   "metadata": {
    "deletable": false,
    "nbgrader": {
     "cell_type": "code",
     "checksum": "16849da4b52691465237743f819bf299",
     "grade": false,
     "grade_id": "cell-d9390c4867c39f7a",
     "locked": false,
     "schema_version": 2,
     "solution": true
    }
   },
   "outputs": [],
   "source": [
    "def min_max(ls):\n",
    "    # YOUR CODE HERE\n",
    "    raise NotImplementedError()"
   ]
  },
  {
   "cell_type": "code",
   "execution_count": null,
   "metadata": {
    "deletable": false,
    "editable": false,
    "nbgrader": {
     "cell_type": "code",
     "checksum": "239de956e8d497c2af9a782c33510dd7",
     "grade": true,
     "grade_id": "cell-6db871ee2ee26098",
     "locked": true,
     "points": 2,
     "schema_version": 2,
     "solution": false
    }
   },
   "outputs": [],
   "source": [
    "assert min_max([3,2,0])==(3,0)\n",
    "assert min_max([-1,-1])==(-1,-1)"
   ]
  }
 ],
 "metadata": {
  "kernelspec": {
   "display_name": "Python 3",
   "language": "python",
   "name": "python3"
  },
  "language_info": {
   "codemirror_mode": {
    "name": "ipython",
    "version": 3
   },
   "file_extension": ".py",
   "mimetype": "text/x-python",
   "name": "python",
   "nbconvert_exporter": "python",
   "pygments_lexer": "ipython3",
   "version": "3.7.3"
  }
 },
 "nbformat": 4,
 "nbformat_minor": 2
}
