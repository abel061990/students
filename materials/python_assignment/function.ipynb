{
 "cells": [
  {
   "cell_type": "markdown",
   "metadata": {
    "deletable": false,
    "editable": false,
    "nbgrader": {
     "cell_type": "markdown",
     "checksum": "d28e0e0e0fe7b890333b6dd1ed8dc435",
     "grade": false,
     "grade_id": "cell-27768751456889d6",
     "locked": true,
     "schema_version": 2,
     "solution": false
    }
   },
   "source": [
    "#### Exo 1:\n",
    "\n",
    "Ecrivez une function qui retourne la somme de deux nombre"
   ]
  },
  {
   "cell_type": "code",
   "execution_count": null,
   "metadata": {
    "deletable": false,
    "nbgrader": {
     "cell_type": "code",
     "checksum": "e7928b816b94ac8e3a9a40cce0aa35a6",
     "grade": false,
     "grade_id": "cell-e608e13244bdf442",
     "locked": false,
     "schema_version": 2,
     "solution": true
    }
   },
   "outputs": [],
   "source": [
    "def add(x,y):\n",
    "    # YOUR CODE HERE\n",
    "    raise NotImplementedError()"
   ]
  },
  {
   "cell_type": "code",
   "execution_count": null,
   "metadata": {
    "deletable": false,
    "editable": false,
    "nbgrader": {
     "cell_type": "code",
     "checksum": "b00365b9b79ef0aeb40f6aca18506ff8",
     "grade": true,
     "grade_id": "cell-7cc71c026c71062c",
     "locked": true,
     "points": 5,
     "schema_version": 2,
     "solution": false
    }
   },
   "outputs": [],
   "source": []
  },
  {
   "cell_type": "markdown",
   "metadata": {
    "deletable": false,
    "editable": false,
    "nbgrader": {
     "cell_type": "markdown",
     "checksum": "933c9d4d83a9dd457b39086c7540f55c",
     "grade": false,
     "grade_id": "cell-026c7003bc9ec15e",
     "locked": true,
     "schema_version": 2,
     "solution": false
    }
   },
   "source": [
    "#### Exo 2:\n",
    "\n",
    " Ecrivez une fonction qui prend en entree une liste de mots et retourne la longueur du plus long"
   ]
  },
  {
   "cell_type": "code",
   "execution_count": null,
   "metadata": {
    "deletable": false,
    "nbgrader": {
     "cell_type": "code",
     "checksum": "e841e1800dacddfb5e4902b9761c7f0b",
     "grade": false,
     "grade_id": "cell-a3f686f105db5a50",
     "locked": false,
     "schema_version": 2,
     "solution": true
    }
   },
   "outputs": [],
   "source": [
    "def max_len_word(ls):\n",
    "    # YOUR CODE HERE\n",
    "    raise NotImplementedError()"
   ]
  },
  {
   "cell_type": "code",
   "execution_count": null,
   "metadata": {
    "deletable": false,
    "editable": false,
    "nbgrader": {
     "cell_type": "code",
     "checksum": "5814b8a4e31a304f2709ac086d60bb67",
     "grade": true,
     "grade_id": "cell-631225801184d4fb",
     "locked": true,
     "points": 5,
     "schema_version": 2,
     "solution": false
    }
   },
   "outputs": [],
   "source": []
  }
 ],
 "metadata": {
  "kernelspec": {
   "display_name": "Python 3",
   "language": "python",
   "name": "python3"
  },
  "language_info": {
   "codemirror_mode": {
    "name": "ipython",
    "version": 3
   },
   "file_extension": ".py",
   "mimetype": "text/x-python",
   "name": "python",
   "nbconvert_exporter": "python",
   "pygments_lexer": "ipython3",
   "version": "3.7.3"
  }
 },
 "nbformat": 4,
 "nbformat_minor": 2
}
